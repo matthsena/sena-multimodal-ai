{
 "cells": [
  {
   "cell_type": "code",
   "execution_count": 18,
   "metadata": {},
   "outputs": [
    {
     "name": "stdout",
     "output_type": "stream",
     "text": [
      "Looking in indexes: https://mirror.baidu.com/pypi/simple\n",
      "Requirement already satisfied: paddlepaddle-gpu==2.6.0 in ./.venv/lib/python3.11/site-packages (2.6.0)\n",
      "Requirement already satisfied: httpx in ./.venv/lib/python3.11/site-packages (from paddlepaddle-gpu==2.6.0) (0.26.0)\n",
      "Requirement already satisfied: numpy>=1.13 in ./.venv/lib/python3.11/site-packages (from paddlepaddle-gpu==2.6.0) (1.23.5)\n",
      "Requirement already satisfied: Pillow in ./.venv/lib/python3.11/site-packages (from paddlepaddle-gpu==2.6.0) (10.2.0)\n",
      "Requirement already satisfied: decorator in ./.venv/lib/python3.11/site-packages (from paddlepaddle-gpu==2.6.0) (5.1.1)\n",
      "Requirement already satisfied: astor in ./.venv/lib/python3.11/site-packages (from paddlepaddle-gpu==2.6.0) (0.8.1)\n",
      "Requirement already satisfied: opt-einsum==3.3.0 in ./.venv/lib/python3.11/site-packages (from paddlepaddle-gpu==2.6.0) (3.3.0)\n",
      "Requirement already satisfied: protobuf>=3.20.2 in ./.venv/lib/python3.11/site-packages (from paddlepaddle-gpu==2.6.0) (4.25.3)\n",
      "Requirement already satisfied: anyio in ./.venv/lib/python3.11/site-packages (from httpx->paddlepaddle-gpu==2.6.0) (4.2.0)\n",
      "Requirement already satisfied: certifi in ./.venv/lib/python3.11/site-packages (from httpx->paddlepaddle-gpu==2.6.0) (2023.11.17)\n",
      "Requirement already satisfied: httpcore==1.* in ./.venv/lib/python3.11/site-packages (from httpx->paddlepaddle-gpu==2.6.0) (1.0.2)\n",
      "Requirement already satisfied: idna in ./.venv/lib/python3.11/site-packages (from httpx->paddlepaddle-gpu==2.6.0) (3.6)\n",
      "Requirement already satisfied: sniffio in ./.venv/lib/python3.11/site-packages (from httpx->paddlepaddle-gpu==2.6.0) (1.3.0)\n",
      "Requirement already satisfied: h11<0.15,>=0.13 in ./.venv/lib/python3.11/site-packages (from httpcore==1.*->httpx->paddlepaddle-gpu==2.6.0) (0.14.0)\n",
      "Requirement already satisfied: PyMuPDF in ./.venv/lib/python3.11/site-packages (1.21.1)\n",
      "Requirement already satisfied: paddlepaddle in ./.venv/lib/python3.11/site-packages (2.6.0)\n",
      "Requirement already satisfied: paddleocr>=2.0.1 in ./.venv/lib/python3.11/site-packages (2.6.0.1)\n",
      "Collecting paddleocr>=2.0.1\n",
      "  Using cached paddleocr-2.7.0.3-py3-none-any.whl.metadata (26 kB)\n",
      "Requirement already satisfied: PyMuPDF==1.21.1 in ./.venv/lib/python3.11/site-packages (1.21.1)\n",
      "Requirement already satisfied: httpx in ./.venv/lib/python3.11/site-packages (from paddlepaddle) (0.26.0)\n",
      "Requirement already satisfied: numpy>=1.13 in ./.venv/lib/python3.11/site-packages (from paddlepaddle) (1.23.5)\n",
      "Requirement already satisfied: Pillow in ./.venv/lib/python3.11/site-packages (from paddlepaddle) (10.2.0)\n",
      "Requirement already satisfied: decorator in ./.venv/lib/python3.11/site-packages (from paddlepaddle) (5.1.1)\n",
      "Requirement already satisfied: astor in ./.venv/lib/python3.11/site-packages (from paddlepaddle) (0.8.1)\n",
      "Requirement already satisfied: opt-einsum==3.3.0 in ./.venv/lib/python3.11/site-packages (from paddlepaddle) (3.3.0)\n",
      "Requirement already satisfied: protobuf>=3.20.2 in ./.venv/lib/python3.11/site-packages (from paddlepaddle) (4.25.3)\n",
      "Requirement already satisfied: shapely in ./.venv/lib/python3.11/site-packages (from paddleocr>=2.0.1) (2.0.2)\n",
      "Requirement already satisfied: scikit-image in ./.venv/lib/python3.11/site-packages (from paddleocr>=2.0.1) (0.22.0)\n",
      "Requirement already satisfied: imgaug in ./.venv/lib/python3.11/site-packages (from paddleocr>=2.0.1) (0.4.0)\n",
      "Requirement already satisfied: pyclipper in ./.venv/lib/python3.11/site-packages (from paddleocr>=2.0.1) (1.3.0.post5)\n",
      "Requirement already satisfied: lmdb in ./.venv/lib/python3.11/site-packages (from paddleocr>=2.0.1) (1.4.1)\n",
      "Requirement already satisfied: tqdm in ./.venv/lib/python3.11/site-packages (from paddleocr>=2.0.1) (4.66.1)\n",
      "Requirement already satisfied: visualdl in ./.venv/lib/python3.11/site-packages (from paddleocr>=2.0.1) (2.5.3)\n",
      "Requirement already satisfied: rapidfuzz in ./.venv/lib/python3.11/site-packages (from paddleocr>=2.0.1) (3.6.1)\n",
      "Collecting opencv-python<=4.6.0.66 (from paddleocr>=2.0.1)\n",
      "  Using cached opencv_python-4.6.0.66-cp36-abi3-manylinux_2_17_x86_64.manylinux2014_x86_64.whl.metadata (18 kB)\n",
      "Collecting opencv-contrib-python<=4.6.0.66 (from paddleocr>=2.0.1)\n",
      "  Using cached opencv_contrib_python-4.6.0.66-cp36-abi3-manylinux_2_17_x86_64.manylinux2014_x86_64.whl.metadata (18 kB)\n",
      "Requirement already satisfied: cython in ./.venv/lib/python3.11/site-packages (from paddleocr>=2.0.1) (3.0.8)\n",
      "Requirement already satisfied: lxml in ./.venv/lib/python3.11/site-packages (from paddleocr>=2.0.1) (5.1.0)\n",
      "Requirement already satisfied: premailer in ./.venv/lib/python3.11/site-packages (from paddleocr>=2.0.1) (3.10.0)\n",
      "Requirement already satisfied: openpyxl in ./.venv/lib/python3.11/site-packages (from paddleocr>=2.0.1) (3.1.2)\n",
      "Requirement already satisfied: attrdict in ./.venv/lib/python3.11/site-packages (from paddleocr>=2.0.1) (2.0.1)\n",
      "INFO: pip is looking at multiple versions of paddleocr to determine which version is compatible with other requirements. This could take a while.\n",
      "Collecting paddleocr>=2.0.1\n",
      "  Using cached paddleocr-2.7.0.2-py3-none-any.whl.metadata (26 kB)\n",
      "  Using cached paddleocr-2.7.0.1-py3-none-any.whl.metadata (26 kB)\n",
      "  Using cached paddleocr-2.7.0.0-py3-none-any.whl.metadata (26 kB)\n",
      "  Using cached paddleocr-2.6.1.3-py3-none-any.whl.metadata (26 kB)\n",
      "  Using cached paddleocr-2.6.1.2-py3-none-any.whl.metadata (26 kB)\n",
      "Requirement already satisfied: opencv-python in ./.venv/lib/python3.11/site-packages (from paddleocr>=2.0.1) (4.9.0.80)\n",
      "Requirement already satisfied: opencv-contrib-python in ./.venv/lib/python3.11/site-packages (from paddleocr>=2.0.1) (4.9.0.80)\n",
      "  Using cached paddleocr-2.6.1.1-py3-none-any.whl.metadata (26 kB)\n",
      "  Using cached paddleocr-2.6.1.0-py3-none-any.whl.metadata (26 kB)\n",
      "Collecting Polygon3 (from paddleocr>=2.0.1)\n",
      "  Using cached Polygon3-3.0.9.1.tar.gz (39 kB)\n",
      "  Preparing metadata (setup.py) ... \u001b[?25ldone\n",
      "\u001b[?25hCollecting lanms-neo==1.0.2 (from paddleocr>=2.0.1)\n",
      "  Using cached lanms_neo-1.0.2.tar.gz (39 kB)\n",
      "  Installing build dependencies ... \u001b[?25ldone\n",
      "\u001b[?25h  Getting requirements to build wheel ... \u001b[?25ldone\n",
      "\u001b[?25h  Preparing metadata (pyproject.toml) ... \u001b[?25ldone\n",
      "\u001b[?25hINFO: pip is still looking at multiple versions of paddleocr to determine which version is compatible with other requirements. This could take a while.\n",
      "Collecting paddleocr>=2.0.1\n",
      "  Using cached paddleocr-2.6.0.3-py3-none-any.whl.metadata (26 kB)\n",
      "  Using cached paddleocr-2.6.0.2-py3-none-any.whl.metadata (26 kB)\n",
      "Requirement already satisfied: six in ./.venv/lib/python3.11/site-packages (from attrdict->paddleocr>=2.0.1) (1.16.0)\n",
      "Requirement already satisfied: anyio in ./.venv/lib/python3.11/site-packages (from httpx->paddlepaddle) (4.2.0)\n",
      "Requirement already satisfied: certifi in ./.venv/lib/python3.11/site-packages (from httpx->paddlepaddle) (2023.11.17)\n",
      "Requirement already satisfied: httpcore==1.* in ./.venv/lib/python3.11/site-packages (from httpx->paddlepaddle) (1.0.2)\n",
      "Requirement already satisfied: idna in ./.venv/lib/python3.11/site-packages (from httpx->paddlepaddle) (3.6)\n",
      "Requirement already satisfied: sniffio in ./.venv/lib/python3.11/site-packages (from httpx->paddlepaddle) (1.3.0)\n",
      "Requirement already satisfied: h11<0.15,>=0.13 in ./.venv/lib/python3.11/site-packages (from httpcore==1.*->httpx->paddlepaddle) (0.14.0)\n",
      "Requirement already satisfied: scipy in ./.venv/lib/python3.11/site-packages (from imgaug->paddleocr>=2.0.1) (1.11.4)\n",
      "Requirement already satisfied: matplotlib in ./.venv/lib/python3.11/site-packages (from imgaug->paddleocr>=2.0.1) (3.8.2)\n",
      "Requirement already satisfied: imageio in ./.venv/lib/python3.11/site-packages (from imgaug->paddleocr>=2.0.1) (2.33.1)\n",
      "Requirement already satisfied: networkx>=2.8 in ./.venv/lib/python3.11/site-packages (from scikit-image->paddleocr>=2.0.1) (3.2.1)\n",
      "Requirement already satisfied: tifffile>=2022.8.12 in ./.venv/lib/python3.11/site-packages (from scikit-image->paddleocr>=2.0.1) (2023.12.9)\n",
      "Requirement already satisfied: packaging>=21 in ./.venv/lib/python3.11/site-packages (from scikit-image->paddleocr>=2.0.1) (23.2)\n",
      "Requirement already satisfied: lazy_loader>=0.3 in ./.venv/lib/python3.11/site-packages (from scikit-image->paddleocr>=2.0.1) (0.3)\n",
      "Requirement already satisfied: et-xmlfile in ./.venv/lib/python3.11/site-packages (from openpyxl->paddleocr>=2.0.1) (1.1.0)\n",
      "Requirement already satisfied: cssselect in ./.venv/lib/python3.11/site-packages (from premailer->paddleocr>=2.0.1) (1.2.0)\n",
      "Requirement already satisfied: cssutils in ./.venv/lib/python3.11/site-packages (from premailer->paddleocr>=2.0.1) (2.9.0)\n",
      "Requirement already satisfied: requests in ./.venv/lib/python3.11/site-packages (from premailer->paddleocr>=2.0.1) (2.31.0)\n",
      "Requirement already satisfied: cachetools in ./.venv/lib/python3.11/site-packages (from premailer->paddleocr>=2.0.1) (5.3.3)\n",
      "Requirement already satisfied: bce-python-sdk in ./.venv/lib/python3.11/site-packages (from visualdl->paddleocr>=2.0.1) (0.9.4)\n",
      "Requirement already satisfied: flask>=1.1.1 in ./.venv/lib/python3.11/site-packages (from visualdl->paddleocr>=2.0.1) (3.0.2)\n",
      "Requirement already satisfied: Flask-Babel>=3.0.0 in ./.venv/lib/python3.11/site-packages (from visualdl->paddleocr>=2.0.1) (4.0.0)\n",
      "Requirement already satisfied: pandas in ./.venv/lib/python3.11/site-packages (from visualdl->paddleocr>=2.0.1) (2.1.4)\n",
      "Requirement already satisfied: rarfile in ./.venv/lib/python3.11/site-packages (from visualdl->paddleocr>=2.0.1) (4.1)\n",
      "Requirement already satisfied: psutil in ./.venv/lib/python3.11/site-packages (from visualdl->paddleocr>=2.0.1) (5.9.7)\n",
      "Requirement already satisfied: Werkzeug>=3.0.0 in ./.venv/lib/python3.11/site-packages (from flask>=1.1.1->visualdl->paddleocr>=2.0.1) (3.0.1)\n",
      "Requirement already satisfied: Jinja2>=3.1.2 in ./.venv/lib/python3.11/site-packages (from flask>=1.1.1->visualdl->paddleocr>=2.0.1) (3.1.3)\n",
      "Requirement already satisfied: itsdangerous>=2.1.2 in ./.venv/lib/python3.11/site-packages (from flask>=1.1.1->visualdl->paddleocr>=2.0.1) (2.1.2)\n",
      "Requirement already satisfied: click>=8.1.3 in ./.venv/lib/python3.11/site-packages (from flask>=1.1.1->visualdl->paddleocr>=2.0.1) (8.1.7)\n",
      "Requirement already satisfied: blinker>=1.6.2 in ./.venv/lib/python3.11/site-packages (from flask>=1.1.1->visualdl->paddleocr>=2.0.1) (1.7.0)\n",
      "Requirement already satisfied: Babel>=2.12 in ./.venv/lib/python3.11/site-packages (from Flask-Babel>=3.0.0->visualdl->paddleocr>=2.0.1) (2.14.0)\n",
      "Requirement already satisfied: pytz>=2022.7 in ./.venv/lib/python3.11/site-packages (from Flask-Babel>=3.0.0->visualdl->paddleocr>=2.0.1) (2023.3.post1)\n",
      "Requirement already satisfied: pycryptodome>=3.8.0 in ./.venv/lib/python3.11/site-packages (from bce-python-sdk->visualdl->paddleocr>=2.0.1) (3.20.0)\n",
      "Requirement already satisfied: future>=0.6.0 in ./.venv/lib/python3.11/site-packages (from bce-python-sdk->visualdl->paddleocr>=2.0.1) (1.0.0)\n",
      "Requirement already satisfied: contourpy>=1.0.1 in ./.venv/lib/python3.11/site-packages (from matplotlib->imgaug->paddleocr>=2.0.1) (1.2.0)\n",
      "Requirement already satisfied: cycler>=0.10 in ./.venv/lib/python3.11/site-packages (from matplotlib->imgaug->paddleocr>=2.0.1) (0.12.1)\n",
      "Requirement already satisfied: fonttools>=4.22.0 in ./.venv/lib/python3.11/site-packages (from matplotlib->imgaug->paddleocr>=2.0.1) (4.47.0)\n",
      "Requirement already satisfied: kiwisolver>=1.3.1 in ./.venv/lib/python3.11/site-packages (from matplotlib->imgaug->paddleocr>=2.0.1) (1.4.5)\n",
      "Requirement already satisfied: pyparsing>=2.3.1 in ./.venv/lib/python3.11/site-packages (from matplotlib->imgaug->paddleocr>=2.0.1) (3.1.1)\n",
      "Requirement already satisfied: python-dateutil>=2.7 in ./.venv/lib/python3.11/site-packages (from matplotlib->imgaug->paddleocr>=2.0.1) (2.8.2)\n",
      "Requirement already satisfied: tzdata>=2022.1 in ./.venv/lib/python3.11/site-packages (from pandas->visualdl->paddleocr>=2.0.1) (2023.4)\n",
      "Requirement already satisfied: charset-normalizer<4,>=2 in ./.venv/lib/python3.11/site-packages (from requests->premailer->paddleocr>=2.0.1) (3.3.2)\n",
      "Requirement already satisfied: urllib3<3,>=1.21.1 in ./.venv/lib/python3.11/site-packages (from requests->premailer->paddleocr>=2.0.1) (2.1.0)\n",
      "Requirement already satisfied: MarkupSafe>=2.0 in ./.venv/lib/python3.11/site-packages (from Jinja2>=3.1.2->flask>=1.1.1->visualdl->paddleocr>=2.0.1) (2.1.3)\n",
      "Requirement already satisfied: Numpy==1.23.5 in ./.venv/lib/python3.11/site-packages (1.23.5)\n"
     ]
    }
   ],
   "source": [
    "!python -m pip install paddlepaddle-gpu==2.6.0 -i https://mirror.baidu.com/pypi/simple\n",
    "!pip install PyMuPDF\n",
    "!pip install paddlepaddle \"paddleocr>=2.0.1\" --upgrade PyMuPDF==1.21.1\n",
    "# !pip uninstall -y numpy\n",
    "!pip install \"Numpy==1.23.5\""
   ]
  },
  {
   "cell_type": "code",
   "execution_count": 24,
   "metadata": {},
   "outputs": [],
   "source": [
    "import os\n",
    "# os.system('pip install paddlepaddle==2.4.2')\n",
    "# # os.system('pip install paddlepaddle==0.0.0 -f https://www.paddlepaddle.org.cn/whl/linux/cpu-mkl/develop.html')\n",
    "# os.system('pip install paddleocr')\n",
    "from paddleocr import PaddleOCR\n"
   ]
  },
  {
   "cell_type": "code",
   "execution_count": 25,
   "metadata": {},
   "outputs": [
    {
     "name": "stdout",
     "output_type": "stream",
     "text": [
      "[2024/03/03 13:58:18] ppocr DEBUG: Namespace(help='==SUPPRESS==', use_gpu=False, use_xpu=False, ir_optim=True, use_tensorrt=False, min_subgraph_size=15, shape_info_filename=None, precision='fp32', gpu_mem=500, image_dir=None, det_algorithm='DB', det_model_dir='/home/matheus-sena/.paddleocr/whl/det/en/en_PP-OCRv3_det_infer', det_limit_side_len=960, det_limit_type='max', det_db_thresh=0.3, det_db_box_thresh=0.6, det_db_unclip_ratio=1.5, max_batch_size=10, use_dilation=False, det_db_score_mode='fast', det_east_score_thresh=0.8, det_east_cover_thresh=0.1, det_east_nms_thresh=0.2, det_sast_score_thresh=0.5, det_sast_nms_thresh=0.2, det_sast_polygon=False, det_pse_thresh=0, det_pse_box_thresh=0.85, det_pse_min_area=16, det_pse_box_type='quad', det_pse_scale=1, scales=[8, 16, 32], alpha=1.0, beta=1.0, fourier_degree=5, det_fce_box_type='poly', rec_algorithm='SVTR_LCNet', rec_model_dir='/home/matheus-sena/.paddleocr/whl/rec/en/en_PP-OCRv3_rec_infer', rec_image_shape='3, 48, 320', rec_batch_num=6, max_text_length=25, rec_char_dict_path='/home/matheus-sena/projects/sena-multimodal-ai/.venv/lib/python3.11/site-packages/paddleocr/ppocr/utils/en_dict.txt', use_space_char=True, vis_font_path='./doc/fonts/simfang.ttf', drop_score=0.5, e2e_algorithm='PGNet', e2e_model_dir=None, e2e_limit_side_len=768, e2e_limit_type='max', e2e_pgnet_score_thresh=0.5, e2e_char_dict_path='./ppocr/utils/ic15_dict.txt', e2e_pgnet_valid_set='totaltext', e2e_pgnet_mode='fast', use_angle_cls=True, cls_model_dir='/home/matheus-sena/.paddleocr/whl/cls/ch_ppocr_mobile_v2.0_cls_infer', cls_image_shape='3, 48, 192', label_list=['0', '90', '180', '270'], cls_batch_num=6, cls_thresh=0.9, enable_mkldnn=False, cpu_threads=10, use_pdserving=False, warmup=False, sr_model_dir=None, sr_image_shape='3, 32, 128', sr_batch_num=1, draw_img_save_dir='./inference_results', save_crop_res=False, crop_res_save_dir='./output', use_mp=False, total_process_num=1, process_id=0, benchmark=False, save_log_path='./log_output/', show_log=True, use_onnx=False, output='./output', table_max_len=488, table_algorithm='TableAttn', table_model_dir=None, merge_no_span_structure=True, table_char_dict_path=None, layout_model_dir=None, layout_dict_path=None, layout_score_threshold=0.5, layout_nms_threshold=0.5, kie_algorithm='LayoutXLM', ser_model_dir=None, ser_dict_path='../train_data/XFUND/class_list_xfun.txt', ocr_order_method=None, mode='structure', image_orientation=False, layout=True, table=True, ocr=True, recovery=False, save_pdf=False, lang='en', det=True, rec=True, type='ocr', ocr_version='PP-OCRv3', structure_version='PP-Structurev2')\n",
      "[2024/03/03 13:58:19] ppocr DEBUG: dt_boxes num : 8, elapse : 0.17021632194519043\n",
      "[2024/03/03 13:58:19] ppocr DEBUG: cls num  : 8, elapse : 0.030510425567626953\n",
      "[2024/03/03 13:58:19] ppocr DEBUG: rec_res num  : 8, elapse : 0.16219139099121094\n"
     ]
    },
    {
     "data": {
      "text/plain": [
       "[[[[442.0, 132.0], [542.0, 199.0], [518.0, 234.0], [418.0, 168.0]],\n",
       "  ('R.VARANE', 0.9875394105911255)],\n",
       " [[[224.0, 265.0], [348.0, 282.0], [344.0, 312.0], [220.0, 295.0]],\n",
       "  ('CTIHAI', 0.7824740409851074)],\n",
       " [[[238.0, 297.0], [332.0, 307.0], [330.0, 330.0], [236.0, 320.0]],\n",
       "  ('AIRWATS', 0.9159035086631775)],\n",
       " [[[1129.0, 486.0], [1171.0, 494.0], [1167.0, 512.0], [1125.0, 504.0]],\n",
       "  ('ewer', 0.9829310178756714)]]"
      ]
     },
     "execution_count": 25,
     "metadata": {},
     "output_type": "execute_result"
    }
   ],
   "source": [
    "ocr = PaddleOCR(use_angle_cls=True, lang='en', use_gpu=True, det_algorithm='DB', rec_algorithm='SVTR_LCNet', det_db_score_mode='fast', label_list=['0', '90','180','270']) # need to run only once to download and load model into memory\n",
    "\n",
    "result = ocr.ocr('images/samples/pt/game1.jpg', cls=True)\n",
    "result"
   ]
  },
  {
   "cell_type": "code",
   "execution_count": 27,
   "metadata": {},
   "outputs": [
    {
     "name": "stdout",
     "output_type": "stream",
     "text": [
      "('R.VARANE', 0.9875394105911255)\n",
      "('CTIHAI', 0.7824740409851074)\n",
      "('AIRWATS', 0.9159035086631775)\n",
      "('ewer', 0.9829310178756714)\n"
     ]
    }
   ],
   "source": [
    "for _, item in result:\n",
    "    print(item)"
   ]
  },
  {
   "cell_type": "code",
   "execution_count": 30,
   "metadata": {},
   "outputs": [
    {
     "data": {
      "text/plain": [
       "[('R.VARANE', 0.9875394105911255),\n",
       " ('CTIHAI', 0.7824740409851074),\n",
       " ('AIRWATS', 0.9159035086631775),\n",
       " ('ewer', 0.9829310178756714)]"
      ]
     },
     "execution_count": 30,
     "metadata": {},
     "output_type": "execute_result"
    }
   ],
   "source": [
    "[item for _, item in result if item[1] >= 0.5]"
   ]
  }
 ],
 "metadata": {
  "kernelspec": {
   "display_name": ".venv",
   "language": "python",
   "name": "python3"
  },
  "language_info": {
   "codemirror_mode": {
    "name": "ipython",
    "version": 3
   },
   "file_extension": ".py",
   "mimetype": "text/x-python",
   "name": "python",
   "nbconvert_exporter": "python",
   "pygments_lexer": "ipython3",
   "version": "3.11.4"
  }
 },
 "nbformat": 4,
 "nbformat_minor": 2
}
